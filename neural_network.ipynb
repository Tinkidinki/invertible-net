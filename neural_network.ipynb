{
 "cells": [
  {
   "cell_type": "code",
   "execution_count": 5,
   "metadata": {},
   "outputs": [],
   "source": [
    "import numpy as np\n",
    "from scipy.special import expit\n",
    "import random"
   ]
  },
  {
   "cell_type": "code",
   "execution_count": 45,
   "metadata": {},
   "outputs": [],
   "source": [
    "class neural_network:\n",
    "    \n",
    "    def __init__(self, X, y, layers):\n",
    "        self.X = X\n",
    "        self.y = y\n",
    "        self.layers = [len(X[0])] + layers + [len(y[0])]\n",
    "        self.num_layers = len(self.layers)\n",
    "        self.n = self.num_layers - 1\n",
    "        self.z = [np.zeros((l_i, 1)) for l_i in self.layers]\n",
    "        self.a = [np.zeros((l_i, 1)) for l_i in self.layers]\n",
    "        self.W = [np.random.rand(self.layers[i+1], self.layers[i])\n",
    "                        for i in range(self.n)]\n",
    "        \n",
    "        self.dW = [np.zeros((self.layers[i+1], self.layers[i]))\n",
    "                        for i in range(self.n)]\n",
    "    \n",
    "                           \n",
    "    def sigmoid(self,x):\n",
    "        return 1/(1+np.exp(-x))\n",
    "\n",
    "    def sigmoid_derivative(self,x):\n",
    "        return self.sigmoid(x)*(1 - self.sigmoid(x))\n",
    "    \n",
    "    def derivative_az(self, layer):\n",
    "        return np.diag([self.sigmoid_derivative(self.z[layer][j, 0]) \n",
    "                        for j in range(self.layers[layer])\n",
    "                           ])\n",
    "    \n",
    "    def derivative_za(self, layer):\n",
    "        return self.W[layer-1]\n",
    "\n",
    "    def error(self, sample):\n",
    "        return sum((self.y[sample][j] - self.z[self.n][j,0])**2 for j in range(self.layers[self.n])) \n",
    "    \n",
    "    def negative_error_derivative(self, t):\n",
    "        return self.learning_rate * np.array([[2*(self.y[t][j] - self.z[self.n][j,0]) for j in range(self.layers[self.n])]]) \n",
    "    \n",
    "    def feedforward(self):\n",
    "        for layer in range(1, self.num_layers):\n",
    "            self.z[layer] = self.W[layer-1] @ self.a[layer-1]\n",
    "            self.a[layer] = self.sigmoid(self.z[layer])\n",
    "    \n",
    "    def backprop(self, sample):\n",
    "        delta = self.negative_error_derivative(sample)\n",
    "        self.dW[self.n - 1] = self.dW[self.n - 1] + (np.transpose(delta) @\n",
    "                                                     np.transpose(self.a[self.n]))\n",
    "        for layer in range(self.n-2, -1, -1):\n",
    "            delta = delta * za_derivative(layer+2) * az_derivative(layer+1)\n",
    "            self.dW[layer] = self.dW[layer] + (np.transpose(delta) \n",
    "                                               @ np.transpose(self.a[layer]))\n",
    "            \n",
    "    \n",
    "    def train(self, epochs, learning_rate):\n",
    "        self.learning_rate = learning_rate\n",
    "        for epoch in range(epochs):\n",
    "            self.dW = [np.zeros((self.layers[i+1], self.layers[i]))\n",
    "                        for i in range(self.n)]\n",
    "            \n",
    "            epoch_error = 0\n",
    "            for sample in range(len(self.X)):\n",
    "                self.a[0] = [self.X[sample]]\n",
    "                self.feedforward()\n",
    "                epoch_error += self.error(sample)\n",
    "                self.backprop(sample)\n",
    "                   \n",
    "            print(\"EPOCH: \"+ epoch + \"   ERROR: \"+epoch_error)\n",
    "\n",
    "            for layer in range(0, self.n):\n",
    "                self.W[layer] = self.W[layer] + self.dW[layer]\n",
    "            \n",
    "    def test(self, X_test):\n",
    "        outputs = []\n",
    "        for x in X_test:\n",
    "            self.a[0] = x;\n",
    "            self.feedforward()\n",
    "            outputs.append(self.z[self.n])\n",
    "        \n",
    "        return outputs\n",
    "        \n"
   ]
  },
  {
   "cell_type": "code",
   "execution_count": 20,
   "metadata": {},
   "outputs": [],
   "source": [
    "X = np.array([[random.randint(1, 10)] for i in range(100)])"
   ]
  },
  {
   "cell_type": "code",
   "execution_count": 34,
   "metadata": {},
   "outputs": [
    {
     "data": {
      "text/plain": [
       "array([[ 1],\n",
       "       [ 2],\n",
       "       [ 1],\n",
       "       [ 9],\n",
       "       [ 7],\n",
       "       [ 8],\n",
       "       [ 5],\n",
       "       [ 7],\n",
       "       [ 3],\n",
       "       [ 3],\n",
       "       [10],\n",
       "       [ 7],\n",
       "       [ 1],\n",
       "       [ 5],\n",
       "       [ 2],\n",
       "       [ 2],\n",
       "       [ 3],\n",
       "       [ 3],\n",
       "       [ 3],\n",
       "       [ 1],\n",
       "       [ 8],\n",
       "       [ 6],\n",
       "       [ 1],\n",
       "       [ 4],\n",
       "       [ 8],\n",
       "       [ 1],\n",
       "       [ 7],\n",
       "       [ 1],\n",
       "       [ 8],\n",
       "       [ 5],\n",
       "       [ 1],\n",
       "       [10],\n",
       "       [ 5],\n",
       "       [ 8],\n",
       "       [ 6],\n",
       "       [ 2],\n",
       "       [ 9],\n",
       "       [ 5],\n",
       "       [ 7],\n",
       "       [ 3],\n",
       "       [ 7],\n",
       "       [ 2],\n",
       "       [ 7],\n",
       "       [ 7],\n",
       "       [ 8],\n",
       "       [ 3],\n",
       "       [ 6],\n",
       "       [ 6],\n",
       "       [ 7],\n",
       "       [ 9],\n",
       "       [ 2],\n",
       "       [ 3],\n",
       "       [ 8],\n",
       "       [ 1],\n",
       "       [ 3],\n",
       "       [10],\n",
       "       [ 8],\n",
       "       [10],\n",
       "       [ 8],\n",
       "       [ 8],\n",
       "       [ 1],\n",
       "       [ 6],\n",
       "       [ 1],\n",
       "       [ 4],\n",
       "       [ 9],\n",
       "       [ 3],\n",
       "       [ 9],\n",
       "       [ 4],\n",
       "       [ 7],\n",
       "       [ 4],\n",
       "       [ 5],\n",
       "       [10],\n",
       "       [ 9],\n",
       "       [ 4],\n",
       "       [ 9],\n",
       "       [ 6],\n",
       "       [10],\n",
       "       [ 6],\n",
       "       [ 9],\n",
       "       [ 2],\n",
       "       [ 5],\n",
       "       [ 6],\n",
       "       [ 2],\n",
       "       [ 5],\n",
       "       [ 3],\n",
       "       [ 1],\n",
       "       [ 3],\n",
       "       [ 5],\n",
       "       [10],\n",
       "       [ 9],\n",
       "       [ 9],\n",
       "       [ 8],\n",
       "       [10],\n",
       "       [ 2],\n",
       "       [ 5],\n",
       "       [ 9],\n",
       "       [ 3],\n",
       "       [ 2],\n",
       "       [ 5],\n",
       "       [ 2]])"
      ]
     },
     "execution_count": 34,
     "metadata": {},
     "output_type": "execute_result"
    }
   ],
   "source": [
    "X"
   ]
  },
  {
   "cell_type": "code",
   "execution_count": 35,
   "metadata": {},
   "outputs": [],
   "source": [
    "Y = np.array([[2*X[i, 0]] for i in range(100)])"
   ]
  },
  {
   "cell_type": "code",
   "execution_count": 36,
   "metadata": {},
   "outputs": [
    {
     "data": {
      "text/plain": [
       "array([[ 1],\n",
       "       [ 2],\n",
       "       [ 1],\n",
       "       [ 9],\n",
       "       [ 7],\n",
       "       [ 8],\n",
       "       [ 5],\n",
       "       [ 7],\n",
       "       [ 3],\n",
       "       [ 3],\n",
       "       [10],\n",
       "       [ 7],\n",
       "       [ 1],\n",
       "       [ 5],\n",
       "       [ 2],\n",
       "       [ 2],\n",
       "       [ 3],\n",
       "       [ 3],\n",
       "       [ 3],\n",
       "       [ 1],\n",
       "       [ 8],\n",
       "       [ 6],\n",
       "       [ 1],\n",
       "       [ 4],\n",
       "       [ 8],\n",
       "       [ 1],\n",
       "       [ 7],\n",
       "       [ 1],\n",
       "       [ 8],\n",
       "       [ 5],\n",
       "       [ 1],\n",
       "       [10],\n",
       "       [ 5],\n",
       "       [ 8],\n",
       "       [ 6],\n",
       "       [ 2],\n",
       "       [ 9],\n",
       "       [ 5],\n",
       "       [ 7],\n",
       "       [ 3],\n",
       "       [ 7],\n",
       "       [ 2],\n",
       "       [ 7],\n",
       "       [ 7],\n",
       "       [ 8],\n",
       "       [ 3],\n",
       "       [ 6],\n",
       "       [ 6],\n",
       "       [ 7],\n",
       "       [ 9],\n",
       "       [ 2],\n",
       "       [ 3],\n",
       "       [ 8],\n",
       "       [ 1],\n",
       "       [ 3],\n",
       "       [10],\n",
       "       [ 8],\n",
       "       [10],\n",
       "       [ 8],\n",
       "       [ 8],\n",
       "       [ 1],\n",
       "       [ 6],\n",
       "       [ 1],\n",
       "       [ 4],\n",
       "       [ 9],\n",
       "       [ 3],\n",
       "       [ 9],\n",
       "       [ 4],\n",
       "       [ 7],\n",
       "       [ 4],\n",
       "       [ 5],\n",
       "       [10],\n",
       "       [ 9],\n",
       "       [ 4],\n",
       "       [ 9],\n",
       "       [ 6],\n",
       "       [10],\n",
       "       [ 6],\n",
       "       [ 9],\n",
       "       [ 2],\n",
       "       [ 5],\n",
       "       [ 6],\n",
       "       [ 2],\n",
       "       [ 5],\n",
       "       [ 3],\n",
       "       [ 1],\n",
       "       [ 3],\n",
       "       [ 5],\n",
       "       [10],\n",
       "       [ 9],\n",
       "       [ 9],\n",
       "       [ 8],\n",
       "       [10],\n",
       "       [ 2],\n",
       "       [ 5],\n",
       "       [ 9],\n",
       "       [ 3],\n",
       "       [ 2],\n",
       "       [ 5],\n",
       "       [ 2]])"
      ]
     },
     "execution_count": 36,
     "metadata": {},
     "output_type": "execute_result"
    }
   ],
   "source": [
    "X"
   ]
  },
  {
   "cell_type": "code",
   "execution_count": 24,
   "metadata": {},
   "outputs": [
    {
     "data": {
      "text/plain": [
       "array([[ 2],\n",
       "       [ 4],\n",
       "       [ 2],\n",
       "       [18],\n",
       "       [14],\n",
       "       [16],\n",
       "       [10],\n",
       "       [14],\n",
       "       [ 6],\n",
       "       [ 6],\n",
       "       [20],\n",
       "       [14],\n",
       "       [ 2],\n",
       "       [10],\n",
       "       [ 4],\n",
       "       [ 4],\n",
       "       [ 6],\n",
       "       [ 6],\n",
       "       [ 6],\n",
       "       [ 2],\n",
       "       [16],\n",
       "       [12],\n",
       "       [ 2],\n",
       "       [ 8],\n",
       "       [16],\n",
       "       [ 2],\n",
       "       [14],\n",
       "       [ 2],\n",
       "       [16],\n",
       "       [10],\n",
       "       [ 2],\n",
       "       [20],\n",
       "       [10],\n",
       "       [16],\n",
       "       [12],\n",
       "       [ 4],\n",
       "       [18],\n",
       "       [10],\n",
       "       [14],\n",
       "       [ 6],\n",
       "       [14],\n",
       "       [ 4],\n",
       "       [14],\n",
       "       [14],\n",
       "       [16],\n",
       "       [ 6],\n",
       "       [12],\n",
       "       [12],\n",
       "       [14],\n",
       "       [18],\n",
       "       [ 4],\n",
       "       [ 6],\n",
       "       [16],\n",
       "       [ 2],\n",
       "       [ 6],\n",
       "       [20],\n",
       "       [16],\n",
       "       [20],\n",
       "       [16],\n",
       "       [16],\n",
       "       [ 2],\n",
       "       [12],\n",
       "       [ 2],\n",
       "       [ 8],\n",
       "       [18],\n",
       "       [ 6],\n",
       "       [18],\n",
       "       [ 8],\n",
       "       [14],\n",
       "       [ 8],\n",
       "       [10],\n",
       "       [20],\n",
       "       [18],\n",
       "       [ 8],\n",
       "       [18],\n",
       "       [12],\n",
       "       [20],\n",
       "       [12],\n",
       "       [18],\n",
       "       [ 4],\n",
       "       [10],\n",
       "       [12],\n",
       "       [ 4],\n",
       "       [10],\n",
       "       [ 6],\n",
       "       [ 2],\n",
       "       [ 6],\n",
       "       [10],\n",
       "       [20],\n",
       "       [18],\n",
       "       [18],\n",
       "       [16],\n",
       "       [20],\n",
       "       [ 4],\n",
       "       [10],\n",
       "       [18],\n",
       "       [ 6],\n",
       "       [ 4],\n",
       "       [10],\n",
       "       [ 4]])"
      ]
     },
     "execution_count": 24,
     "metadata": {},
     "output_type": "execute_result"
    }
   ],
   "source": [
    "Y"
   ]
  },
  {
   "cell_type": "code",
   "execution_count": 46,
   "metadata": {},
   "outputs": [],
   "source": [
    "nn = neural_network(X, Y, [])"
   ]
  },
  {
   "cell_type": "code",
   "execution_count": 38,
   "metadata": {},
   "outputs": [
    {
     "data": {
      "text/plain": [
       "[1, 1]"
      ]
     },
     "execution_count": 38,
     "metadata": {},
     "output_type": "execute_result"
    }
   ],
   "source": [
    "nn.layers"
   ]
  },
  {
   "cell_type": "code",
   "execution_count": 39,
   "metadata": {},
   "outputs": [
    {
     "data": {
      "text/plain": [
       "2"
      ]
     },
     "execution_count": 39,
     "metadata": {},
     "output_type": "execute_result"
    }
   ],
   "source": [
    "nn.num_layers"
   ]
  },
  {
   "cell_type": "code",
   "execution_count": 40,
   "metadata": {},
   "outputs": [
    {
     "data": {
      "text/plain": [
       "1"
      ]
     },
     "execution_count": 40,
     "metadata": {},
     "output_type": "execute_result"
    }
   ],
   "source": [
    "nn.n"
   ]
  },
  {
   "cell_type": "code",
   "execution_count": 41,
   "metadata": {},
   "outputs": [
    {
     "data": {
      "text/plain": [
       "[array([[0.]]), array([[0.]])]"
      ]
     },
     "execution_count": 41,
     "metadata": {},
     "output_type": "execute_result"
    }
   ],
   "source": [
    "nn.z"
   ]
  },
  {
   "cell_type": "code",
   "execution_count": 42,
   "metadata": {},
   "outputs": [
    {
     "data": {
      "text/plain": [
       "[array([[0.]]), array([[0.]])]"
      ]
     },
     "execution_count": 42,
     "metadata": {},
     "output_type": "execute_result"
    }
   ],
   "source": [
    "nn.a"
   ]
  },
  {
   "cell_type": "code",
   "execution_count": 43,
   "metadata": {},
   "outputs": [
    {
     "data": {
      "text/plain": [
       "[array([[0.10554882]])]"
      ]
     },
     "execution_count": 43,
     "metadata": {},
     "output_type": "execute_result"
    }
   ],
   "source": [
    "nn.W"
   ]
  },
  {
   "cell_type": "code",
   "execution_count": 47,
   "metadata": {},
   "outputs": [
    {
     "ename": "UnboundLocalError",
     "evalue": "local variable 'layer' referenced before assignment",
     "output_type": "error",
     "traceback": [
      "\u001b[0;31m---------------------------------------------------------------------------\u001b[0m",
      "\u001b[0;31mUnboundLocalError\u001b[0m                         Traceback (most recent call last)",
      "\u001b[0;32m<ipython-input-47-a6b12e85a1d2>\u001b[0m in \u001b[0;36m<module>\u001b[0;34m\u001b[0m\n\u001b[0;32m----> 1\u001b[0;31m \u001b[0mnn\u001b[0m\u001b[0;34m.\u001b[0m\u001b[0mtrain\u001b[0m\u001b[0;34m(\u001b[0m\u001b[0;36m10\u001b[0m\u001b[0;34m,\u001b[0m \u001b[0;36m0.1\u001b[0m\u001b[0;34m)\u001b[0m\u001b[0;34m\u001b[0m\u001b[0;34m\u001b[0m\u001b[0m\n\u001b[0m",
      "\u001b[0;32m<ipython-input-45-52bb9aec42aa>\u001b[0m in \u001b[0;36mtrain\u001b[0;34m(self, epochs, learning_rate)\u001b[0m\n\u001b[1;32m     62\u001b[0m                 \u001b[0mself\u001b[0m\u001b[0;34m.\u001b[0m\u001b[0mfeedforward\u001b[0m\u001b[0;34m(\u001b[0m\u001b[0;34m)\u001b[0m\u001b[0;34m\u001b[0m\u001b[0;34m\u001b[0m\u001b[0m\n\u001b[1;32m     63\u001b[0m                 \u001b[0mepoch_error\u001b[0m \u001b[0;34m+=\u001b[0m \u001b[0mself\u001b[0m\u001b[0;34m.\u001b[0m\u001b[0merror\u001b[0m\u001b[0;34m(\u001b[0m\u001b[0msample\u001b[0m\u001b[0;34m)\u001b[0m\u001b[0;34m\u001b[0m\u001b[0;34m\u001b[0m\u001b[0m\n\u001b[0;32m---> 64\u001b[0;31m                 \u001b[0mself\u001b[0m\u001b[0;34m.\u001b[0m\u001b[0mbackprop\u001b[0m\u001b[0;34m(\u001b[0m\u001b[0msample\u001b[0m\u001b[0;34m)\u001b[0m\u001b[0;34m\u001b[0m\u001b[0;34m\u001b[0m\u001b[0m\n\u001b[0m\u001b[1;32m     65\u001b[0m \u001b[0;34m\u001b[0m\u001b[0m\n\u001b[1;32m     66\u001b[0m             \u001b[0mprint\u001b[0m\u001b[0;34m(\u001b[0m\u001b[0;34m\"EPOCH: \"\u001b[0m\u001b[0;34m+\u001b[0m \u001b[0mepoch\u001b[0m \u001b[0;34m+\u001b[0m \u001b[0;34m\"   ERROR: \"\u001b[0m\u001b[0;34m+\u001b[0m\u001b[0mepoch_error\u001b[0m\u001b[0;34m)\u001b[0m\u001b[0;34m\u001b[0m\u001b[0;34m\u001b[0m\u001b[0m\n",
      "\u001b[0;32m<ipython-input-45-52bb9aec42aa>\u001b[0m in \u001b[0;36mbackprop\u001b[0;34m(self, sample)\u001b[0m\n\u001b[1;32m     44\u001b[0m         \u001b[0mdelta\u001b[0m \u001b[0;34m=\u001b[0m \u001b[0mself\u001b[0m\u001b[0;34m.\u001b[0m\u001b[0mnegative_error_derivative\u001b[0m\u001b[0;34m(\u001b[0m\u001b[0msample\u001b[0m\u001b[0;34m)\u001b[0m\u001b[0;34m\u001b[0m\u001b[0;34m\u001b[0m\u001b[0m\n\u001b[1;32m     45\u001b[0m         self.dW[self.n - 1] = self.dW[self.n - 1] + (np.transpose(delta) @\n\u001b[0;32m---> 46\u001b[0;31m                                                      np.transpose(self.a[layer]))\n\u001b[0m\u001b[1;32m     47\u001b[0m         \u001b[0;32mfor\u001b[0m \u001b[0mlayer\u001b[0m \u001b[0;32min\u001b[0m \u001b[0mrange\u001b[0m\u001b[0;34m(\u001b[0m\u001b[0mself\u001b[0m\u001b[0;34m.\u001b[0m\u001b[0mn\u001b[0m\u001b[0;34m-\u001b[0m\u001b[0;36m2\u001b[0m\u001b[0;34m,\u001b[0m \u001b[0;34m-\u001b[0m\u001b[0;36m1\u001b[0m\u001b[0;34m,\u001b[0m \u001b[0;34m-\u001b[0m\u001b[0;36m1\u001b[0m\u001b[0;34m)\u001b[0m\u001b[0;34m:\u001b[0m\u001b[0;34m\u001b[0m\u001b[0;34m\u001b[0m\u001b[0m\n\u001b[1;32m     48\u001b[0m             \u001b[0mdelta\u001b[0m \u001b[0;34m=\u001b[0m \u001b[0mdelta\u001b[0m \u001b[0;34m*\u001b[0m \u001b[0mza_derivative\u001b[0m\u001b[0;34m(\u001b[0m\u001b[0mlayer\u001b[0m\u001b[0;34m+\u001b[0m\u001b[0;36m2\u001b[0m\u001b[0;34m)\u001b[0m \u001b[0;34m*\u001b[0m \u001b[0maz_derivative\u001b[0m\u001b[0;34m(\u001b[0m\u001b[0mlayer\u001b[0m\u001b[0;34m+\u001b[0m\u001b[0;36m1\u001b[0m\u001b[0;34m)\u001b[0m\u001b[0;34m\u001b[0m\u001b[0;34m\u001b[0m\u001b[0m\n",
      "\u001b[0;31mUnboundLocalError\u001b[0m: local variable 'layer' referenced before assignment"
     ]
    }
   ],
   "source": [
    "nn.train(10, 0.1)"
   ]
  },
  {
   "cell_type": "code",
   "execution_count": null,
   "metadata": {},
   "outputs": [],
   "source": []
  }
 ],
 "metadata": {
  "kernelspec": {
   "display_name": "dwave-ml",
   "language": "python",
   "name": "dwave-ml"
  },
  "language_info": {
   "codemirror_mode": {
    "name": "ipython",
    "version": 3
   },
   "file_extension": ".py",
   "mimetype": "text/x-python",
   "name": "python",
   "nbconvert_exporter": "python",
   "pygments_lexer": "ipython3",
   "version": "3.6.9"
  }
 },
 "nbformat": 4,
 "nbformat_minor": 4
}
